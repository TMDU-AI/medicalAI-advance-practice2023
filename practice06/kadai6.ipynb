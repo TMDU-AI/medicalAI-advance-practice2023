{
  "nbformat": 4,
  "nbformat_minor": 0,
  "metadata": {
    "colab": {
      "provenance": [],
      "gpuType": "T4"
    },
    "kernelspec": {
      "name": "python3",
      "display_name": "Python 3"
    },
    "language_info": {
      "name": "python"
    },
    "accelerator": "GPU"
  },
  "cells": [
    {
      "cell_type": "markdown",
      "source": [
        "1. CNNにあってMLPにない層は次のどれか、2つ選んでください     \n",
        "a. 中間層  \n",
        "b. 畳み込み層  \n",
        "c. 全結合層  \n",
        "d. プーリング層"
      ],
      "metadata": {
        "id": "lk3zjk6u73_z"
      }
    },
    {
      "cell_type": "code",
      "source": [
        "# 次の%を置き換えて2つのアルファベットで答えてください\n",
        "print(\"%,%\")"
      ],
      "metadata": {
        "id": "XO84Fth08l6w"
      },
      "execution_count": null,
      "outputs": []
    },
    {
      "cell_type": "markdown",
      "source": [
        "2. CNNの特徴として正しいものはどれか  \n",
        "a. CNNでは画像の2次元の配列データを1次元の配列にして入力する  \n",
        "b. CNNはMLPよりも高速に計算できる  \n",
        "c. CNNは白黒画像しか対応していない    \n",
        "d. CNNは畳み込み層とプーリング層を繰り返してモデルを作成する"
      ],
      "metadata": {
        "id": "qdm5FqZ69vc6"
      }
    },
    {
      "cell_type": "code",
      "source": [
        "# 次の%を置き換えてアルファベット(半角)で答えてください\n",
        "print(\"%\")"
      ],
      "metadata": {
        "id": "DgxPvntXArzf"
      },
      "execution_count": null,
      "outputs": []
    },
    {
      "cell_type": "markdown",
      "source": [
        "3. fashion_mnistではなく、mnistでCNNを実行しなさい  \n",
        "・畳み込み層とプーリング層を含めること  \n",
        "・ドロップアウトも含めること  \n",
        "・書き方は自由で、\"ライブラリの読み込み\"、\"前処理\"、\"モデルの作成\"、\"学習\"、\"評価\"に分けて書いてください(セルは追加しないでください)   \n",
        "・評価時の変数はscoreとして、評価は下記2つのprint文が実行できるように修正してください"
      ],
      "metadata": {
        "id": "QRiOz3jkBHNj"
      }
    },
    {
      "cell_type": "code",
      "execution_count": null,
      "metadata": {
        "id": "psFo75IYUyNB"
      },
      "outputs": [],
      "source": [
        "# ライブラリの読み込み"
      ]
    },
    {
      "cell_type": "code",
      "source": [
        "# 前処理"
      ],
      "metadata": {
        "id": "tYr3hbL2Pfyv"
      },
      "execution_count": null,
      "outputs": []
    },
    {
      "cell_type": "code",
      "source": [
        "# モデルの作成"
      ],
      "metadata": {
        "id": "Vvm38CILU236"
      },
      "execution_count": null,
      "outputs": []
    },
    {
      "cell_type": "code",
      "source": [
        "# 学習"
      ],
      "metadata": {
        "id": "a8o4HY0zU211"
      },
      "execution_count": null,
      "outputs": []
    },
    {
      "cell_type": "code",
      "source": [
        "# 評価\n",
        "\n",
        "print(\"損失:\",score[0])\n",
        "print(\"正解率:\",score[1])"
      ],
      "metadata": {
        "id": "nxk25wS1U2zq"
      },
      "execution_count": null,
      "outputs": []
    },
    {
      "cell_type": "code",
      "source": [],
      "metadata": {
        "id": "wUsBDDsZiu7X"
      },
      "execution_count": null,
      "outputs": []
    },
    {
      "cell_type": "code",
      "source": [],
      "metadata": {
        "id": "bc3S6X4GtA4i"
      },
      "execution_count": null,
      "outputs": []
    },
    {
      "cell_type": "code",
      "source": [],
      "metadata": {
        "id": "jWWeghqvtA2V"
      },
      "execution_count": null,
      "outputs": []
    },
    {
      "cell_type": "code",
      "source": [],
      "metadata": {
        "id": "n815y_ROtA0h"
      },
      "execution_count": null,
      "outputs": []
    },
    {
      "cell_type": "code",
      "source": [],
      "metadata": {
        "id": "f-gkUsH_tAyW"
      },
      "execution_count": null,
      "outputs": []
    },
    {
      "cell_type": "code",
      "source": [],
      "metadata": {
        "id": "oRi2COe9tAwR"
      },
      "execution_count": null,
      "outputs": []
    },
    {
      "cell_type": "code",
      "source": [],
      "metadata": {
        "id": "9UNwW-4BvCIL"
      },
      "execution_count": null,
      "outputs": []
    },
    {
      "cell_type": "code",
      "source": [],
      "metadata": {
        "id": "L5v4tiqZqV0t"
      },
      "execution_count": null,
      "outputs": []
    },
    {
      "cell_type": "code",
      "source": [],
      "metadata": {
        "id": "SKhu0AfwU2rd"
      },
      "execution_count": null,
      "outputs": []
    }
  ]
}