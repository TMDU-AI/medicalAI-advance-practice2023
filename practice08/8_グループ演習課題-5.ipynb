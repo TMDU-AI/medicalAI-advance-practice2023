{
  "nbformat": 4,
  "nbformat_minor": 0,
  "metadata": {
    "colab": {
      "provenance": []
    },
    "kernelspec": {
      "name": "python3",
      "display_name": "Python 3"
    },
    "language_info": {
      "name": "python"
    }
  },
  "cells": [
    {
      "cell_type": "code",
      "source": [
        "# 自由記載欄"
      ],
      "metadata": {
        "id": "c8YQpVzaaF_I"
      },
      "execution_count": null,
      "outputs": []
    },
    {
      "cell_type": "code",
      "source": [
        "# 自由記載欄"
      ],
      "metadata": {
        "id": "ML8u6tRXaF29"
      },
      "execution_count": null,
      "outputs": []
    },
    {
      "cell_type": "code",
      "source": [
        "# 自由記載欄"
      ],
      "metadata": {
        "id": "Yp_SJlExaFx6"
      },
      "execution_count": null,
      "outputs": []
    },
    {
      "cell_type": "markdown",
      "source": [
        "問1. testの画像の9991から10000番目の画像が、airplane、automobile、bird、cat、deer、dog、frog、horse、ship、truckのどれに相当するか調べたい.  \n",
        "下のような出力結果が得られるように下記プログラムを完成させなさい\n",
        "\n",
        "得たい出力結果  \n",
        "9991 horse   \n",
        "9992 airplane  \n",
        "9993 cat   \n",
        "9994 dog     \n",
        "9995 cat     \n",
        "9996 ship    \n",
        "9997 cat   \n",
        "9998 dog   \n",
        "9999 automobile     \n",
        "10000 horse   \n",
        "\n"
      ],
      "metadata": {
        "id": "HbWMPZi2Ya2R"
      }
    },
    {
      "cell_type": "code",
      "execution_count": null,
      "metadata": {
        "id": "4bU9huV1YJLV"
      },
      "outputs": [],
      "source": [
        "# 問１解答セル(このコメントは消さないでください)\n",
        "label =['airplane','automobile','bird','cat','deer','dog','frog','horse','ship','truck']\n",
        "for i in range(%%%%,%%%%):\n",
        "  print(%%%%,label[%%%%%%%%])\n",
        ""
      ]
    },
    {
      "cell_type": "markdown",
      "source": [
        "問２　trainの画像の最初の6枚を画像の上にplt.titleを使用して正解も表示してください"
      ],
      "metadata": {
        "id": "3D0Shw0_bK_W"
      }
    },
    {
      "cell_type": "code",
      "source": [
        "# 問2解答セル(このコメントは消さないでください)\n",
        "# このセルに書いてください"
      ],
      "metadata": {
        "id": "jaCVpJYeYaiI"
      },
      "execution_count": null,
      "outputs": []
    },
    {
      "cell_type": "markdown",
      "source": [
        "問３ trainの画像の最初の18枚をmatplotlibのsubplotを使って縦3、横6で表示する   \n",
        "その際に目盛りを消して表示してください。   \n",
        "   (matplotlibで検索するとオプションの使い方が色々出てきます。)\n"
      ],
      "metadata": {
        "id": "5b7JOp2ndsW3"
      }
    },
    {
      "cell_type": "code",
      "source": [
        "# 問３解答セル(このコメントは消さないでください)\n",
        "# このセルに書いてください\n"
      ],
      "metadata": {
        "id": "deuZQM_pbPI8"
      },
      "execution_count": null,
      "outputs": []
    },
    {
      "cell_type": "markdown",
      "source": [
        "問4 MLPを実行して一番testデータのaccuracyが高いモデルの学習結果を提出しなさい\n"
      ],
      "metadata": {
        "id": "HNNxkYCzgx12"
      }
    },
    {
      "cell_type": "code",
      "source": [
        "# 自由記載欄"
      ],
      "metadata": {
        "id": "4EkADtHObPGk"
      },
      "execution_count": null,
      "outputs": []
    },
    {
      "cell_type": "code",
      "source": [
        "# 自由記載欄"
      ],
      "metadata": {
        "id": "RROcWPxEg7-X"
      },
      "execution_count": null,
      "outputs": []
    },
    {
      "cell_type": "code",
      "source": [
        "# 自由記載欄"
      ],
      "metadata": {
        "id": "EGn4pPE6g78S"
      },
      "execution_count": null,
      "outputs": []
    },
    {
      "cell_type": "code",
      "source": [
        "# 自由記載欄"
      ],
      "metadata": {
        "id": "LLnXRu6vg76C"
      },
      "execution_count": null,
      "outputs": []
    },
    {
      "cell_type": "code",
      "source": [
        "# 問4解答セル(このコメントは消さないでください)\n",
        "# 学習過程の折れ線グラフを表示してください"
      ],
      "metadata": {
        "id": "q8DlwaLPhEgh"
      },
      "execution_count": null,
      "outputs": []
    },
    {
      "cell_type": "markdown",
      "source": [
        "問5 CNNを実行して一番testデータのaccuracyが高いモデルの学習結果を提出しなさい"
      ],
      "metadata": {
        "id": "ZBHulFHEhet4"
      }
    },
    {
      "cell_type": "code",
      "source": [
        "# 自由記載欄"
      ],
      "metadata": {
        "id": "irq64dLnhEeA"
      },
      "execution_count": null,
      "outputs": []
    },
    {
      "cell_type": "code",
      "source": [
        "# 自由記載欄"
      ],
      "metadata": {
        "id": "rDO3aSVLhEUP"
      },
      "execution_count": null,
      "outputs": []
    },
    {
      "cell_type": "code",
      "source": [
        "# 自由記載欄"
      ],
      "metadata": {
        "id": "OXvQ6XpGg73p"
      },
      "execution_count": null,
      "outputs": []
    },
    {
      "cell_type": "code",
      "source": [
        "# 自由記載欄"
      ],
      "metadata": {
        "id": "BSITFo-_bPD5"
      },
      "execution_count": null,
      "outputs": []
    },
    {
      "cell_type": "code",
      "source": [
        "# 問5解答セル(このコメントは消さないでください)\n",
        "# 学習過程の折れ線グラフを表示してください"
      ],
      "metadata": {
        "id": "r45CPbqUYaf9"
      },
      "execution_count": null,
      "outputs": []
    },
    {
      "cell_type": "markdown",
      "source": [
        "グループ番号(半角)_名前_学籍番号(半角).ipynb で提出してください"
      ],
      "metadata": {
        "id": "Y8G4MORIjsYk"
      }
    },
    {
      "cell_type": "code",
      "source": [],
      "metadata": {
        "id": "d7EgRRbeYada"
      },
      "execution_count": null,
      "outputs": []
    }
  ]
}