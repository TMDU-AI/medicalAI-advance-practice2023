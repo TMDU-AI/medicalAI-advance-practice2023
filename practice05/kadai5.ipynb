{
  "nbformat": 4,
  "nbformat_minor": 0,
  "metadata": {
    "colab": {
      "provenance": []
    },
    "kernelspec": {
      "name": "python3",
      "display_name": "Python 3"
    },
    "language_info": {
      "name": "python"
    }
  },
  "cells": [
    {
      "cell_type": "markdown",
      "source": [
        "1. Fashion_mnistではなくmnistを読み込んでMLPを実施してださい.  \n",
        "最終的なテスト用画像の正解率が97%を超えるようにしてください(98%を超えた場合、加点します)\n"
      ],
      "metadata": {
        "id": "6YHIIft81pC7"
      }
    },
    {
      "cell_type": "code",
      "source": [
        "# 自由記載用セル\n",
        "# 必要に応じてセルは追加してください\n",
        "\n"
      ],
      "metadata": {
        "id": "IBg6yvmT1l9v"
      },
      "execution_count": null,
      "outputs": []
    },
    {
      "cell_type": "code",
      "source": [
        "# 自由記載用セル\n",
        "# 必要に応じてセルは追加してください\n",
        "\n"
      ],
      "metadata": {
        "id": "WMILpV-666A7"
      },
      "execution_count": null,
      "outputs": []
    },
    {
      "cell_type": "code",
      "source": [
        "# 自由記載用セル\n",
        "# 必要に応じてセルは追加してください\n",
        "\n"
      ],
      "metadata": {
        "id": "hEReNp6o1l7h"
      },
      "execution_count": null,
      "outputs": []
    },
    {
      "cell_type": "code",
      "source": [
        "# 自由記載用セル\n",
        "# 必要に応じてセルは追加してください\n",
        "\n"
      ],
      "metadata": {
        "id": "O3HZrKnqJoU0"
      },
      "execution_count": null,
      "outputs": []
    },
    {
      "cell_type": "code",
      "source": [
        "# 最終結果①\n",
        "# 最終的なモデルの学習過程のグラフ(lossとaccuracy)を横に並べて表示してください"
      ],
      "metadata": {
        "id": "3iV6tQ1T1l5l"
      },
      "execution_count": null,
      "outputs": []
    },
    {
      "cell_type": "code",
      "source": [
        "# 最終結果②\n",
        "# ここにテスト用画像の損失と正解率を記載してください\n",
        "# %%%%のみを置き換えて実行(出力結果を表示)してください\n",
        "print(\"最終結果のテスト用データの損失は\",%%%%)\n",
        "print(\"最終結果のテスト用データの正解率は\",%%%%)"
      ],
      "metadata": {
        "id": "aNOJblh31l3l"
      },
      "execution_count": null,
      "outputs": []
    },
    {
      "cell_type": "markdown",
      "source": [
        "2. 次のうち正しいものはどれか   \n",
        " a. 過学習とは検証用のデータに偏って学習し過ぎてしまう現象である  \n",
        " b. dropoutとは予測(推論)する際のニューロンの出力を一定の割合で0にすることである    \n",
        " c. 検証用のデータを用意することで過学習が起きているかを確認することが出来る   \n",
        " d. 過学習はモデルのパラメータ数が不足している時に起きやすい"
      ],
      "metadata": {
        "id": "KcRvtBBG-qBA"
      }
    },
    {
      "cell_type": "code",
      "source": [
        "#下の%をa,b,c,dのいずれかに置き換えてください\n",
        "print(\"2の正解は\",%)"
      ],
      "metadata": {
        "id": "4W0vk0ks1l1h"
      },
      "execution_count": null,
      "outputs": []
    },
    {
      "cell_type": "code",
      "source": [],
      "metadata": {
        "id": "f05lKRLZ1lzk"
      },
      "execution_count": null,
      "outputs": []
    },
    {
      "cell_type": "code",
      "source": [],
      "metadata": {
        "id": "wpfm6r_L1lxh"
      },
      "execution_count": null,
      "outputs": []
    },
    {
      "cell_type": "code",
      "execution_count": null,
      "metadata": {
        "id": "UeH9crGv1gh-"
      },
      "outputs": [],
      "source": []
    }
  ]
}