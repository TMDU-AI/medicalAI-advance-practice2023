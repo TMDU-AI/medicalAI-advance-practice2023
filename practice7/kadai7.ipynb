{
  "nbformat": 4,
  "nbformat_minor": 0,
  "metadata": {
    "colab": {
      "provenance": [],
      "gpuType": "T4"
    },
    "kernelspec": {
      "name": "python3",
      "display_name": "Python 3"
    },
    "language_info": {
      "name": "python"
    },
    "accelerator": "GPU"
  },
  "cells": [
    {
      "cell_type": "markdown",
      "source": [
        "1. データ拡張について、誤っているのは次のどれか     \n",
        "a. データ拡張は用意しているデータセットを加工して学習するデータ量を増やす手法である    \n",
        "b. データ拡張はMLPでも使うことが出来る  \n",
        "c. データ拡張のImageDataGeneratorで一度に設定できる加工方法は3つまでである  \n",
        "d. データセットの画像の内容によってはデータ拡張の効果は見られない"
      ],
      "metadata": {
        "id": "lk3zjk6u73_z"
      }
    },
    {
      "cell_type": "code",
      "source": [
        "# 次の%を置き換えてアルファベット(半角)で答えてください\n",
        "print(\"%\")"
      ],
      "metadata": {
        "id": "XO84Fth08l6w"
      },
      "execution_count": null,
      "outputs": []
    },
    {
      "cell_type": "markdown",
      "source": [
        "2. fashion_mnistではなく、mnistでデータ拡張を実行してください  \n",
        "・どの加工方法を選んでも良い  \n",
        "・2つ以上含めること  \n",
        "・学習はする必要ありません   \n",
        "・最終結果は、shuffle=Falseとして、テスト用画像の先頭16枚を縦2、横8で画像を表示してください"
      ],
      "metadata": {
        "id": "QRiOz3jkBHNj"
      }
    },
    {
      "cell_type": "code",
      "source": [
        "# データの読み込み"
      ],
      "metadata": {
        "id": "wUsBDDsZiu7X"
      },
      "execution_count": null,
      "outputs": []
    },
    {
      "cell_type": "code",
      "source": [
        "# 前処理"
      ],
      "metadata": {
        "id": "bc3S6X4GtA4i"
      },
      "execution_count": null,
      "outputs": []
    },
    {
      "cell_type": "code",
      "source": [
        "# データ拡張の実施"
      ],
      "metadata": {
        "id": "jWWeghqvtA2V"
      },
      "execution_count": null,
      "outputs": []
    },
    {
      "cell_type": "code",
      "source": [
        "# 作図"
      ],
      "metadata": {
        "id": "n815y_ROtA0h"
      },
      "execution_count": null,
      "outputs": []
    },
    {
      "cell_type": "code",
      "source": [],
      "metadata": {
        "id": "f-gkUsH_tAyW"
      },
      "execution_count": null,
      "outputs": []
    },
    {
      "cell_type": "code",
      "source": [],
      "metadata": {
        "id": "oRi2COe9tAwR"
      },
      "execution_count": null,
      "outputs": []
    },
    {
      "cell_type": "code",
      "source": [],
      "metadata": {
        "id": "9UNwW-4BvCIL"
      },
      "execution_count": null,
      "outputs": []
    },
    {
      "cell_type": "code",
      "source": [],
      "metadata": {
        "id": "L5v4tiqZqV0t"
      },
      "execution_count": null,
      "outputs": []
    },
    {
      "cell_type": "code",
      "source": [],
      "metadata": {
        "id": "SKhu0AfwU2rd"
      },
      "execution_count": null,
      "outputs": []
    }
  ]
}