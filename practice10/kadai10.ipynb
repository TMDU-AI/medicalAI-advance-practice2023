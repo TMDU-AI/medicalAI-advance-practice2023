{
  "nbformat": 4,
  "nbformat_minor": 0,
  "metadata": {
    "colab": {
      "provenance": []
    },
    "kernelspec": {
      "name": "python3",
      "display_name": "Python 3"
    },
    "language_info": {
      "name": "python"
    }
  },
  "cells": [
    {
      "cell_type": "markdown",
      "source": [
        "1.以下の文を英訳し、transformersライブラリのpipelineを使用して、テキスト分類(感情分析)を行なってください。    \n",
        "文: \"この新しいレストランは本当に素晴らしい！料理も最高だし、サービスも抜群だ。\""
      ],
      "metadata": {
        "id": "HEzN-fQjaQjD"
      }
    },
    {
      "cell_type": "code",
      "execution_count": null,
      "metadata": {
        "id": "5M9vdX-PaM2a"
      },
      "outputs": [],
      "source": [
        "pip install transformers\n",
        "from transformers import pipeline"
      ]
    },
    {
      "cell_type": "code",
      "source": [
        "# コードはこのセルに作成し、実行してください"
      ],
      "metadata": {
        "id": "tk4LYODEbRzw"
      },
      "execution_count": null,
      "outputs": []
    },
    {
      "cell_type": "markdown",
      "source": [
        "2.逆にネガティブなレストランのレビューを作成し、negativeの結果を出力してください。"
      ],
      "metadata": {
        "id": "b2tWLD8ObDwi"
      }
    },
    {
      "cell_type": "code",
      "source": [
        "# コードはこのセルに作成し、実行してください"
      ],
      "metadata": {
        "id": "8w6sfmqLa1z-"
      },
      "execution_count": null,
      "outputs": []
    },
    {
      "cell_type": "markdown",
      "source": [
        "3.下記文章を英訳し、50トークン以上、100トークン以下で要約してください。   \n",
        "要約は日本語にしたりせず、そのままnlp()の出力結果で構いません。   \n",
        "文章：高血圧は、心臓が血液を送る際の圧力が常に高い状態で、心臓病や脳卒中のリスクを増加させます。原因には不健康な食生活、運動不足、喫煙、ストレスがあり、多くは症状を伴いません。治療と予防には健康的な食事、運動、禁煙、ストレス管理が重要です。定期的な血圧のチェックが必要です。"
      ],
      "metadata": {
        "id": "zrH2-KXLbeVC"
      }
    },
    {
      "cell_type": "code",
      "source": [
        "# コードはこのセルに作成し、実行してください"
      ],
      "metadata": {
        "id": "VOpORCCjcCUf"
      },
      "execution_count": null,
      "outputs": []
    },
    {
      "cell_type": "code",
      "source": [],
      "metadata": {
        "id": "vuTScN0bdm4r"
      },
      "execution_count": null,
      "outputs": []
    }
  ]
}